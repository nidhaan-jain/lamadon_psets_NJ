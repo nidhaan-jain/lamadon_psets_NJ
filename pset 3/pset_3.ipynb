{
 "cells": [
  {
   "attachments": {},
   "cell_type": "markdown",
   "metadata": {},
   "source": [
    "# Problem Set 3- EM for Normal Mixtures\n",
    "## Nidhaan Jain"
   ]
  },
  {
   "attachments": {},
   "cell_type": "markdown",
   "metadata": {},
   "source": [
    "### Setup"
   ]
  },
  {
   "cell_type": "code",
   "execution_count": 14,
   "metadata": {},
   "outputs": [],
   "source": [
    "# load packages\n",
    "using LinearAlgebra\n",
    "using Distributions\n",
    "using GLM "
   ]
  },
  {
   "attachments": {},
   "cell_type": "markdown",
   "metadata": {},
   "source": [
    "#### Define intermediate functions"
   ]
  },
  {
   "cell_type": "code",
   "execution_count": 88,
   "metadata": {},
   "outputs": [
    {
     "data": {
      "text/plain": [
       "3.4076059644443806"
      ]
     },
     "metadata": {},
     "output_type": "display_data"
    }
   ],
   "source": [
    "# obtain the (log of) the normal pdf, given a value of wages (y), mean, and standard deviation\n",
    "# this function will eventuallt require a transpose of the means and standard deviations \n",
    "function pdf_value(x, μ=0, σ=1)  \n",
    "    z = -0.5 * (  (Y .- μ) ./ σ )^2   .- 0.5 * log(2.0*pi) .- log.(σ)\n",
    "    return z\n",
    "end\n",
    "\n",
    "# obtain the sum of the likelihood for a given k   \n",
    "function sum_exp(v)\n",
    "    vm = maximum(v)\n",
    "    z = (exp.(v .- vm))\n",
    "    z = z[1] + z[2] + z[3]\n",
    "    z = log(z) + vm\n",
    "end \n",
    "\n",
    "# obtain the posterior for p_k \n",
    "# this function will eventually take the following arguments- \n",
    "# Y1 (vector of 1st period realisations), Y2, Y3, μ (matrix of k-specific means over time), σ (same as before, but sd), pk, n, k\n",
    "τ = zeros(n, k) # here, n is the number of individuals and k is the number of latent groups \n",
    "lpm = zeros(n, k)\n",
    "lik = 0 \n",
    "for i in 1:n \n",
    "    ltau = log.(pk)\n",
    "    lnorm1 = pdf_value(Y1[i], μ[1, :], σ[1, :])\n",
    "    lnorm2 = pdf_value(Y2[i], μ[2, :], σ[2, :])\n",
    "    lnorm3 = pdf_value(Y3[i], μ[3, :], σ[3, :])\n",
    "    lall = ltau .+ lnorm1 .+ lnorm2 .+ lnorm3\n",
    "    lpm[i, :] = lall\n",
    "    lik = lik + sum_exp(lall)\n",
    "    τ[i, :] = exp.(lall .- sum_exp(lall))\n",
    "end "
   ]
  },
  {
   "attachments": {},
   "cell_type": "markdown",
   "metadata": {},
   "source": [
    "#### Update the means and variances"
   ]
  },
  {
   "cell_type": "code",
   "execution_count": 92,
   "metadata": {},
   "outputs": [
    {
     "ename": "UndefVarError",
     "evalue": "UndefVarError: Y1 not defined",
     "output_type": "error",
     "traceback": [
      "UndefVarError: Y1 not defined\n",
      "\n",
      "Stacktrace:\n",
      " [1] top-level scope\n",
      "   @ ~/Dropbox/PhD coursework/02 Topics in Labor_Earnings and Employment/psets/lamadon_psets_NJ/pset 3/pset_3.ipynb:2"
     ]
    }
   ],
   "source": [
    "DY1  = kron(Y1, ones(k))\n",
    "DY2  = kron(Y2, ones(k))\n",
    "DY3  = kron(Y3, ones(k))\n",
    "Dkj1 = kron(speye(N),sparse(1:k,1:k))\n",
    "Dkj2 = kron(speye(N),sparse(1:k,1:k))\n",
    "Dkj3 = kron(speye(N),sparse(1:k,1:k))\n",
    "\n",
    "rw = τ'\n",
    "fit = wfit(lm, Dkj1, DY1, rw)\n",
    "A[1,:] = coef(fit)[1:nk]'\n",
    "\n"
   ]
  }
 ],
 "metadata": {
  "kernelspec": {
   "display_name": "Julia 1.7.2",
   "language": "julia",
   "name": "julia-1.7"
  },
  "language_info": {
   "file_extension": ".jl",
   "mimetype": "application/julia",
   "name": "julia",
   "version": "1.7.2"
  },
  "orig_nbformat": 4
 },
 "nbformat": 4,
 "nbformat_minor": 2
}
